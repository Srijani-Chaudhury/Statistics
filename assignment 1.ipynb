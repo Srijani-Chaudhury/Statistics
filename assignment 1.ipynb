{
 "cells": [
  {
   "cell_type": "code",
   "execution_count": 2,
   "metadata": {},
   "outputs": [
    {
     "data": {
      "text/plain": [
       "74.5"
      ]
     },
     "execution_count": 2,
     "metadata": {},
     "output_type": "execute_result"
    }
   ],
   "source": [
    "\n",
    "def quartilerange(list):    \n",
    "    import numpy as np \n",
    "    k1=np.sort(list)\n",
    "    n=len(k1)+1\n",
    "    i_lower=((n*25)/100)+0.5\n",
    "    i_upper=((n*75)/100)+0.5\n",
    "    i1=int(i_lower)\n",
    "    f1=i_lower-i1\n",
    "    i2=int(i_upper)\n",
    "    f2=i_upper-i2\n",
    "    lower_quartile=((1-f1)*k1[i1-1])+(f1*k1[i1])\n",
    "    upper_quartile=((1-f2)*k1[i2-1])+(f2*k1[i2])\n",
    "    quartile_range=upper_quartile-lower_quartile\n",
    "    return(quartile_range) \n",
    "quartilerange([23,14,13,56,78,98,12]) "
   ]
  },
  {
   "cell_type": "code",
   "execution_count": 4,
   "metadata": {},
   "outputs": [
    {
     "data": {
      "text/plain": [
       "(array([  1.,   3.,  11.,  36.,  86., 176., 245., 142.,  44.,  12.]),\n",
       " array([ 56. ,  97.5, 139. , 180.5, 222. , 263.5, 305. , 346.5, 388. ,\n",
       "        429.5, 471. ]),\n",
       " <a list of 10 Patch objects>)"
      ]
     },
     "execution_count": 4,
     "metadata": {},
     "output_type": "execute_result"
    },
    {
     "data": {
      "image/png": "[encoded data removed]",
      "text/plain": [
       "<Figure size 432x288 with 1 Axes>"
      ]
     },
     "metadata": {
      "needs_background": "light"
     },
     "output_type": "display_data"
    }
   ],
   "source": [
    "\n",
    "import pandas as pd\n",
    "import matplotlib.pyplot as pt\n",
    "data=pd.read_csv('deliveries.csv')\n",
    "#data.groupby(['match_id','inning'])['total_runs'].sum().reset_index().groupby('match_id')['total_runs'].sum()\n",
    "pt.hist(data.groupby(['match_id','inning'])['total_runs'].sum().reset_index().groupby('match_id')['total_runs'].sum())"
   ]
  },
  {
   "cell_type": "code",
   "execution_count": 5,
   "metadata": {},
   "outputs": [
    {
     "name": "stderr",
     "output_type": "stream",
     "text": [
      "C:\\Users\\SRIJANI\\Anaconda3\\lib\\site-packages\\statsmodels\\nonparametric\\kde.py:447: RuntimeWarning: invalid value encountered in greater\n",
      "  X = X[np.logical_and(X > clip[0], X < clip[1])] # won't work for two columns.\n",
      "C:\\Users\\SRIJANI\\Anaconda3\\lib\\site-packages\\statsmodels\\nonparametric\\kde.py:447: RuntimeWarning: invalid value encountered in less\n",
      "  X = X[np.logical_and(X > clip[0], X < clip[1])] # won't work for two columns.\n"
     ]
    },
    {
     "data": {
      "text/plain": [
       "<matplotlib.axes._subplots.AxesSubplot at 0x2032234c088>"
      ]
     },
     "execution_count": 5,
     "metadata": {},
     "output_type": "execute_result"
    },
    {
     "data": {
      "image/png": "[encoded data removed]",
      "text/plain": [
       "<Figure size 432x288 with 1 Axes>"
      ]
     },
     "metadata": {
      "needs_background": "light"
     },
     "output_type": "display_data"
    }
   ],
   "source": [
    "import matplotlib.pyplot as ply\n",
    "import seaborn as sns\n",
    "k=data.groupby('bowler').filter(lambda x:x['batsman_runs'].count()>300)\n",
    "economy=(k.groupby('bowler')['batsman_runs'].sum())/(k.drop_duplicates(subset='over').groupby('bowler')['over'].count())\n",
    "sns.kdeplot(economy)"
   ]
  },
  {
   "cell_type": "code",
   "execution_count": 6,
   "metadata": {},
   "outputs": [
    {
     "ename": "SyntaxError",
     "evalue": "invalid syntax (<ipython-input-6-1894647105d9>, line 1)",
     "output_type": "error",
     "traceback": [
      "\u001b[1;36m  File \u001b[1;32m\"<ipython-input-6-1894647105d9>\"\u001b[1;36m, line \u001b[1;32m1\u001b[0m\n\u001b[1;33m    NEGATIVE SKEWNESS-GPAs at schools with easy grading.\u001b[0m\n\u001b[1;37m                    ^\u001b[0m\n\u001b[1;31mSyntaxError\u001b[0m\u001b[1;31m:\u001b[0m invalid syntax\n"
     ]
    }
   ],
   "source": [
    "NEGATIVE SKEWNESS-GPAs at schools with easy grading.\n",
    "Reasoning: GPAs have an upper bound of 4 so it can't keep getting larger and larger. And if the average GPA is 3.5, then there is only so much space to exist greater than 3.5 and far more below it. This is also an example for tests that are easy.\n",
    "\n",
    "Another would be age at death in most western countries.\n",
    "\n",
    "Reasoning: the upper limit is almost set around 115 and the average is a lot closer to 115 than the lower bound of 0 at about 80.\n",
    "\n",
    "My final example is the price of rent in a rent controlled area.\n",
    "\n",
    "Reasoning: There's an upper limit and I'd assume the average price is right around that upper limit with a lot of room for a few exceptions to be much lower than the rest\n",
    "\n",
    "POSTIVELY SKEWENESS Real life example of positively skewed distribution can be wealth of people in a Country. It has its natural boundary at zero. Also, there are fewer and fewer people with huge wealth.\n",
    "\n",
    "Another example of it are the marks obtained by students in a difficult exam. Again, it has natural boundary at zero and because of the difficulty of the exam there will be fewer and fewer students obtaining higher and higher marks.\n",
    "\n",
    "Positively skewed = income in the U.S.A. (A few very high incomes, mostly lower ones.) Negatively skewed = grade point averages of a college’s students. (A few very low GPAs, mostly between whatever numeric values correspond to B and A.)"
   ]
  },
  {
   "cell_type": "code",
   "execution_count": null,
   "metadata": {},
   "outputs": [],
   "source": []
  }
 ],
 "metadata": {
  "kernelspec": {
   "display_name": "Python 3",
   "language": "python",
   "name": "python3"
  },
  "language_info": {
   "codemirror_mode": {
    "name": "ipython",
    "version": 3
   },
   "file_extension": ".py",
   "mimetype": "text/x-python",
   "name": "python",
   "nbconvert_exporter": "python",
   "pygments_lexer": "ipython3",
   "version": "3.7.4"
  }
 },
 "nbformat": 4,
 "nbformat_minor": 2
}
