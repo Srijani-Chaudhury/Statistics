{
 "cells": [
  {
   "cell_type": "code",
   "execution_count": 35,
   "metadata": {},
   "outputs": [
    {
     "data": {
      "text/plain": [
       "74.5"
      ]
     },
     "execution_count": 35,
     "metadata": {},
     "output_type": "execute_result"
    }
   ],
   "source": [
    "def quartilerange(list):    \n",
    "    import numpy as np \n",
    "    k1=np.sort(list)\n",
    "    n=len(k1)+1\n",
    "    i_lower=((n*25)/100)+0.5\n",
    "    i_upper=((n*75)/100)+0.5\n",
    "    i1=int(i_lower)\n",
    "    f1=i_lower-i1\n",
    "    i2=int(i_upper)\n",
    "    f2=i_upper-i2\n",
    "    lower_quartile=((1-f1)*k1[i1-1])+(f1*k1[i1])\n",
    "    upper_quartile=((1-f2)*k1[i2-1])+(f2*k1[i2])\n",
    "    quartile_range=upper_quartile-lower_quartile\n",
    "    return(quartile_range) \n",
    "quartilerange([23,14,13,56,78,98,12] )"
   ]
  },
  {
   "cell_type": "code",
   "execution_count": 4,
   "metadata": {},
   "outputs": [
    {
     "data": {
      "text/plain": [
       "(array([  1.,   3.,  11.,  36.,  86., 176., 245., 142.,  44.,  12.]),\n",
       " array([ 56. ,  97.5, 139. , 180.5, 222. , 263.5, 305. , 346.5, 388. ,\n",
       "        429.5, 471. ]),\n",
       " <a list of 10 Patch objects>)"
      ]
     },
     "execution_count": 4,
     "metadata": {},
     "output_type": "execute_result"
    },
    {
     "data": {
      "image/png": "iVBORw0KGgoAAAANSUhEUgAAAXcAAAD4CAYAAAAXUaZHAAAABHNCSVQICAgIfAhkiAAAAAlwSFlzAAALEgAACxIB0t1+/AAAADh0RVh0U29mdHdhcmUAbWF0cGxvdGxpYiB2ZXJzaW9uMy4xLjEsIGh0dHA6Ly9tYXRwbG90bGliLm9yZy8QZhcZAAAOEklEQVR4nO3dcaxedX3H8fdn1OE2zQC5kK6tu+i6BExmJTcMw/5guk0Es2qiC2TRxpDUPyDBxGQp/jHdHyQ1meJMNrI6iJg4kUUNjZA5VlmMfwgWZFDsCFftoLahdSq6mJgVv/vj/qqP7dM+z73Pfe5Tfn2/kpNzzu/8zj3f+0vzuae/e55zU1VIkvrya7MuQJK0+gx3SeqQ4S5JHTLcJalDhrskdWjdrAsAuPDCC2t+fn7WZUjSS8qjjz76/aqaG3bsjAj3+fl59u7dO+syJOklJcl/n+qY0zKS1KGR4Z5kU5KHkuxP8lSSW1r7h5N8L8njbbl24JxbkywmeTrJW6b5DUiSTjbOtMwx4ANV9ViSVwKPJnmwHbu9qv52sHOSy4DrgdcBvwP8e5Lfr6oXV7NwSdKpjbxzr6rDVfVY2/4JsB/YcJpTtgL3VNXPquq7wCJwxWoUK0kaz7Lm3JPMA28AHm5NNyd5IsldSc5vbRuA5wZOO8iQHwZJtifZm2Tv0aNHl124JOnUxg73JK8APg+8v6p+DNwBvBbYAhwGPnq865DTT3o7WVXtqqqFqlqYmxv6JI8kaYXGCvckL2Mp2D9TVV8AqKrnq+rFqvo58El+OfVyENg0cPpG4NDqlSxJGmWcp2UC3Ansr6qPDbSvH+j2DmBf294NXJ/k3CSXAJuBR1avZEnSKOM8LXMV8G7gySSPt7YPAjck2cLSlMsB4H0AVfVUknuBb7H0pM1NPikjSWtrZLhX1dcYPo/+wGnOuQ24bYK6pLPe/I77Z3LdAzuvm8l1tbr8hKokdchwl6QOGe6S1CHDXZI6ZLhLUocMd0nqkOEuSR0y3CWpQ4a7JHXIcJekDhnuktQhw12SOmS4S1KHDHdJ6pDhLkkdMtwlqUOGuyR1yHCXpA4Z7pLUIcNdkjpkuEtShwx3SeqQ4S5JHTLcJalDhrskdchwl6QOGe6S1CHDXZI6ZLhLUocMd0nqkOEuSR0y3CWpQ4a7JHXIcJekDo0M9ySbkjyUZH+Sp5Lc0tovSPJgkmfa+vzWniSfSLKY5Ikkl0/7m5Ak/apx7tyPAR+oqkuBK4GbklwG7AD2VNVmYE/bB3grsLkt24E7Vr1qSdJpjQz3qjpcVY+17Z8A+4ENwFbg7tbtbuDtbXsr8Ola8nXgvCTrV71ySdIpLWvOPck88AbgYeDiqjoMSz8AgItatw3AcwOnHWxtJ36t7Un2Jtl79OjR5VcuSTqlscM9ySuAzwPvr6ofn67rkLY6qaFqV1UtVNXC3NzcuGVIksYwVrgneRlLwf6ZqvpCa37++HRLWx9p7QeBTQOnbwQOrU65kqRxjPO0TIA7gf1V9bGBQ7uBbW17G3DfQPt72lMzVwIvHJ++kSStjXVj9LkKeDfwZJLHW9sHgZ3AvUluBJ4F3tWOPQBcCywCPwXeu6oVS5JGGhnuVfU1hs+jA7x5SP8CbpqwLknSBPyEqiR1yHCXpA4Z7pLUIcNdkjpkuEtShwx3SeqQ4S5JHTLcJalDhrskdchwl6QOGe6S1CHDXZI6ZLhLUocMd0nq0Djvc5fOavM77p91CdKyeecuSR0y3CWpQ4a7JHXIcJekDhnuktQhw12SOmS4S1KHDHdJ6pDhLkkdMtwlqUOGuyR1yHCXpA4Z7pLUIcNdkjpkuEtShwx3SeqQ4S5JHTLcJalDI8M9yV1JjiTZN9D24STfS/J4W64dOHZrksUkTyd5y7QKlySd2jh37p8CrhnSfntVbWnLAwBJLgOuB17XzvmHJOesVrGSpPGMDPeq+irwgzG/3lbgnqr6WVV9F1gErpigPknSCkwy535zkifatM35rW0D8NxAn4Ot7SRJtifZm2Tv0aNHJyhDknSilYb7HcBrgS3AYeCjrT1D+tawL1BVu6pqoaoW5ubmVliGJGmYFYV7VT1fVS9W1c+BT/LLqZeDwKaBrhuBQ5OVKElarhWFe5L1A7vvAI4/SbMbuD7JuUkuATYDj0xWoiRpudaN6pDks8DVwIVJDgIfAq5OsoWlKZcDwPsAquqpJPcC3wKOATdV1YvTKV2SdCojw72qbhjSfOdp+t8G3DZJUZKkyfgJVUnq0Mg7d0lnl/kd98/s2gd2Xjeza/fGO3dJ6pDhLkkdMtwlqUOGuyR1yHCXpA4Z7pLUIcNdkjpkuEtShwx3SeqQ4S5JHTLcJalDhrskdchwl6QOGe6S1CHDXZI6ZLhLUocMd0nqkOEuSR0y3CWpQ4a7JHXIcJekDhnuktQhw12SOmS4S1KHDHdJ6pDhLkkdMtwlqUOGuyR1yHCXpA4Z7pLUIcNdkjo0MtyT3JXkSJJ9A20XJHkwyTNtfX5rT5JPJFlM8kSSy6dZvCRpuHHu3D8FXHNC2w5gT1VtBva0fYC3Apvbsh24Y3XKlCQtx8hwr6qvAj84oXkrcHfbvht4+0D7p2vJ14HzkqxfrWIlSeNZ6Zz7xVV1GKCtL2rtG4DnBvodbG0nSbI9yd4ke48ePbrCMiRJw6z2L1QzpK2GdayqXVW1UFULc3Nzq1yGJJ3dVhruzx+fbmnrI639ILBpoN9G4NDKy5MkrcRKw303sK1tbwPuG2h/T3tq5krghePTN5KktbNuVIcknwWuBi5MchD4ELATuDfJjcCzwLta9weAa4FF4KfAe6dQsyRphJHhXlU3nOLQm4f0LeCmSYuSJE3GT6hKUocMd0nqkOEuSR0y3CWpQ4a7JHXIcJekDo18FFI6E8zvuH/WJUgvKd65S1KHDHdJ6pDhLkkdMtwlqUOGuyR1yHCXpA4Z7pLUIcNdkjpkuEtShwx3SeqQ4S5JHTLcJalDhrskdchwl6QOGe6S1CHDXZI6ZLhLUocMd0nqkOEuSR0y3CWpQ4a7JHXIcJekDhnuktQhw12SOmS4S1KHDHdJ6tC6SU5OcgD4CfAicKyqFpJcAHwOmAcOAH9RVT+crExJ0nKsxp37H1fVlqpaaPs7gD1VtRnY0/YlSWtoGtMyW4G72/bdwNuncA1J0mlMGu4F/FuSR5Nsb20XV9VhgLa+aMJrSJKWaaI5d+CqqjqU5CLgwST/Ne6J7YfBdoBXv/rVE5YhSRo00Z17VR1q6yPAF4ErgOeTrAdo6yOnOHdXVS1U1cLc3NwkZUiSTrDicE/yW0leeXwb+DNgH7Ab2Na6bQPum7RISdLyTDItczHwxSTHv84/V9W/JvkGcG+SG4FngXdNXqYkaTlWHO5V9R3g9UPa/wd48yRFSZImM+kvVCVp1czvuH8m1z2w87qZXHeafP2AJHXIcJekDhnuktQhw12SOmS4S1KHfFpGyzKrpxkkLY937pLUIcNdkjpkuEtShwx3SeqQ4S5JHTLcJalDhrskdchwl6QOGe6S1CHDXZI6ZLhLUocMd0nqkOEuSR0y3CWpQ4a7JHXIcJekDhnuktQhw12SOmS4S1KHDHdJ6pB/IFvSWW+Wf/j9wM7rpvJ1DfeXoFn+Q5T00uC0jCR1yHCXpA4Z7pLUIcNdkjpkuEtSh6b2tEySa4C/A84B/qmqdk7rWrPiUyuSzlRTuXNPcg7w98BbgcuAG5JcNo1rSZJONq079yuAxar6DkCSe4CtwLdW+0LePUvSyaYV7huA5wb2DwJ/ONghyXZge9v93yRPT6mWtXAh8P1ZF3GGc4xGc4zG09U45SMTnf67pzowrXDPkLb6lZ2qXcCuKV1/TSXZW1ULs67jTOYYjeYYjcdxGs+0npY5CGwa2N8IHJrStSRJJ5hWuH8D2JzkkiS/DlwP7J7StSRJJ5jKtExVHUtyM/Bllh6FvKuqnprGtc4QXUwvTZljNJpjNB7HaQypqtG9JEkvKX5CVZI6ZLhLUocM9xGS3JXkSJJ9A20XJHkwyTNtfX5rT5JPJFlM8kSSy2dX+dpJsinJQ0n2J3kqyS2t3XEakOTlSR5J8p9tnP6mtV+S5OE2Tp9rDyGQ5Ny2v9iOz8+y/rWU5Jwk30zypbbvGC2T4T7ap4BrTmjbAeypqs3AnrYPS69b2NyW7cAda1TjrB0DPlBVlwJXAje11004Tr/qZ8Cbqur1wBbgmiRXAh8Bbm/j9EPgxtb/RuCHVfV7wO2t39niFmD/wL5jtFxV5TJiAeaBfQP7TwPr2/Z64Om2/Y/ADcP6nU0LcB/wp47TacfoN4HHWPrk9veBda39jcCX2/aXgTe27XWtX2Zd+xqMzUaWbgbeBHyJpQ9FOkbLXLxzX5mLq+owQFtf1NqHvXZhwxrXNlPtv8VvAB7GcTpJm254HDgCPAh8G/hRVR1rXQbH4hfj1I6/ALxqbSueiY8DfwX8vO2/Csdo2Qz31TXytQs9S/IK4PPA+6vqx6frOqTtrBinqnqxqrawdHd6BXDpsG5tfdaNU5K3AUeq6tHB5iFdz9oxGpfhvjLPJ1kP0NZHWvtZ+9qFJC9jKdg/U1VfaM2O0ylU1Y+A/2DpdxTnJTn+gcLBsfjFOLXjvw38YG0rXXNXAX+e5ABwD0tTMx/HMVo2w31ldgPb2vY2luaYj7e/pz0NciXwwvFpiZ4lCXAnsL+qPjZwyHEakGQuyXlt+zeAP2Hpl4YPAe9s3U4cp+Pj907gK9Uml3tVVbdW1caqmmfptSVfqaq/xDFavllP+p/pC/BZ4DDwfyzdJdzI0pzeHuCZtr6g9Q1Lf6Tk28CTwMKs61+jMfojlv4r/ATweFuudZxOGqc/AL7Zxmkf8Net/TXAI8Ai8C/Aua395W1/sR1/zay/hzUer6uBLzlGK1t8/YAkdchpGUnqkOEuSR0y3CWpQ4a7JHXIcJekDhnuktQhw12SOvT/sHgTLeNvMRgAAAAASUVORK5CYII=\n",
      "text/plain": [
       "<Figure size 432x288 with 1 Axes>"
      ]
     },
     "metadata": {
      "needs_background": "light"
     },
     "output_type": "display_data"
    }
   ],
   "source": [
    "import pandas as pd\n",
    "import matplotlib.pyplot as pt\n",
    "data=pd.read_csv('deliveries.csv')\n",
    "data.groupby(['match_id','inning'])['total_runs'].sum().reset_index().groupby('match_id')['total_runs'].sum()\n",
    
   ]
  },
  {
   "cell_type": "code",
   "execution_count": 9,
   "metadata": {},
   "outputs": [
    {
     "data": {
      "text/plain": [
       "<matplotlib.axes._subplots.AxesSubplot at 0x26e330239c8>"
      ]
     },
     "execution_count": 9,
     "metadata": {},
     "output_type": "execute_result"
    },
    {
     "data": {
      "image/png": "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\n",
      "text/plain": [
       "<Figure size 432x288 with 1 Axes>"
      ]
     },
     "metadata": {
      "needs_background": "light"
     },
     "output_type": "display_data"
    }
   ],
   "source": [
    "import matplotlib.pyplot as ply\n",
    "import seaborn as sns\n",
    "k=data.groupby('bowler').filter(lambda x:x['batsman_runs'].count()>300)\n",
    "economy=(k.groupby('bowler')['total_runs'].sum())/(k.drop_duplicates(subset='over').groupby('bowler')['over'].count())\n",
    "sns.kdeplot(economy)\n",
    "                                                   \n",
    "\n",
    "                                            \n",
    "#rouped.filter(lambda x: x['B'].mean() > 3.)\n",
    "\n"
   ]
  },
  {
   "cell_type": "raw",
   "metadata": {},
   "source": []
  },
  {
   "cell_type": "markdown",
   "metadata": {},
   "source": [
    "#NEGATIVE SKEWNESS-GPAs at schools with easy grading.\n",
    "\n",
    "Reasoning: GPAs have an upper bound of 4 so it can't keep getting larger and larger. And if the average GPA is 3.5, then there is only so much space to exist greater than 3.5 and far more below it. This is also an example for tests that are easy.\n",
    "\n",
    "Another would be age at death in most western countries.\n",
    "\n",
    "Reasoning: the upper limit is almost set around 115 and the average is a lot closer to 115 than the lower bound of 0 at about 80.\n",
    "\n",
    "My final example is the price of rent in a rent controlled area.\n",
    "\n",
    "Reasoning: There's an upper limit and I'd assume the average price is right around that upper limit with a lot of room for a few exceptions to be much lower than the rest\n",
    "\n",
    "POSTIVELY SKEWENESS\n",
    "Real life example of positively skewed distribution can be wealth of people in a Country. It has its natural boundary at zero. Also, there are fewer and fewer people with huge wealth.\n",
    "\n",
    "Another example of it are the marks obtained by students in a difficult exam. Again, it has natural boundary at zero and because of the difficulty of the exam there will be fewer and fewer students obtaining higher and higher marks.\n",
    "\n",
    "Positively skewed = income in the U.S.A. (A few very high incomes, mostly lower ones.) Negatively skewed = grade point averages of a college’s students. (A few very low GPAs, mostly between whatever numeric values correspond to B and A.)\n",
    "\n",
    "\n"
   ]
  },
  {
   "cell_type": "code",
   "execution_count": null,
   "metadata": {},
   "outputs": [],
   "source": []
  }
 ],
 "metadata": {
  "kernelspec": {
   "display_name": "Python 3",
   "language": "python",
   "name": "python3"
  },
  "language_info": {
   "codemirror_mode": {
    "name": "ipython",
    "version": 3
   },
   "file_extension": ".py",
   "mimetype": "text/x-python",
   "name": "python",
   "nbconvert_exporter": "python",
   "pygments_lexer": "ipython3",
   "version": "3.7.4"
  }
 },
 "nbformat": 4,
 "nbformat_minor": 2
}
